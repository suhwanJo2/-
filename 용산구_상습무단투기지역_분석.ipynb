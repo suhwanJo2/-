{
 "cells": [
  {
   "cell_type": "code",
   "execution_count": 29,
   "id": "b61e826b",
   "metadata": {},
   "outputs": [
    {
     "name": "stdout",
     "output_type": "stream",
     "text": [
      "      연번                  도로명주소                     상세위치\n",
      "0  후암동-1   서울특별시 용산구 두텁바위로1길107  행남팰리스 앞 상업지역 및 골목길 4거리 \n",
      "1  후암동-2    서울특별시 용산구 후암로13가길22    백합빌라 앞 도로변 및 쓰레기 수거지역\n",
      "2  후암동-3    서울특별시 용산구 후암로28길 57             에지앙 담장 전신주 옆\n",
      "3  후암동-4  서울특별시 용산구 한강대로104길 67   후암시장(구 풍년순댓국 앞) 골목4거리 \n",
      "4  후암동-5      서울특별시 용산구 후암로4길25                지월장 옆 전신주\n"
     ]
    }
   ],
   "source": [
    "csv = pd.read_csv('서울특별시 용산구_쓰레기상습무단투기지역현황_20230627.csv',encoding='cp949')\n",
    "print(csv.head())"
   ]
  },
  {
   "cell_type": "code",
   "execution_count": 30,
   "id": "94de4852",
   "metadata": {},
   "outputs": [
    {
     "name": "stdout",
     "output_type": "stream",
     "text": [
      "0     서울특별시 용산구 두텁바위로1길107\n",
      "1      서울특별시 용산구 후암로13가길22\n",
      "2      서울특별시 용산구 후암로28길 57\n",
      "3    서울특별시 용산구 한강대로104길 67\n",
      "4        서울특별시 용산구 후암로4길25\n",
      "Name: 도로명주소, dtype: object\n"
     ]
    }
   ],
   "source": [
    "address= csv['도로명주소']\n",
    "print(address.head())"
   ]
  },
  {
   "cell_type": "code",
   "execution_count": 31,
   "id": "4527ddcb",
   "metadata": {},
   "outputs": [
    {
     "name": "stdout",
     "output_type": "stream",
     "text": [
      "0       서울특별시 용산구 두텁바위로1길107\n",
      "1        서울특별시 용산구 후암로13가길22\n",
      "2        서울특별시 용산구 후암로28길 57\n",
      "3      서울특별시 용산구 한강대로104길 67\n",
      "4          서울특별시 용산구 후암로4길25\n",
      "               ...          \n",
      "303       서울특별시 용산구 장문로 45가길\n",
      "304         서울특별시 용산구 보광로 7길\n",
      "305       서울특별시 용산구 장문로 45바길\n",
      "306       서울특별시 용산구 장문로 45바길\n",
      "307       서울특별시 용산구 장문로 45바길\n",
      "Name: 도로명주소, Length: 308, dtype: object\n"
     ]
    }
   ],
   "source": [
    "for i in range(len(address)):\n",
    "    a = address[i].split(' ')\n",
    "    address[i] = \" \".join(a[0:4])\n",
    "print(address)"
   ]
  },
  {
   "cell_type": "code",
   "execution_count": 32,
   "id": "08fcc9d4",
   "metadata": {},
   "outputs": [
    {
     "name": "stdout",
     "output_type": "stream",
     "text": [
      "Requirement already satisfied: geopy in c:\\users\\user\\anaconda3\\lib\\site-packages (2.3.0)\n",
      "Requirement already satisfied: geographiclib<3,>=1.52 in c:\\users\\user\\anaconda3\\lib\\site-packages (from geopy) (2.0)\n",
      "Note: you may need to restart the kernel to use updated packages.\n"
     ]
    }
   ],
   "source": [
    "pip install geopy"
   ]
  },
  {
   "cell_type": "code",
   "execution_count": 33,
   "id": "c7f790b9",
   "metadata": {},
   "outputs": [],
   "source": [
    "from geopy.geocoders import Nominatim\n",
    "geo_local = Nominatim(user_agent='South Korea')\n",
    "\n",
    "def geocoding(address):\n",
    "    try:\n",
    "        geo = geo_local.geocode(address)\n",
    "        x_y = [geo.latitude, geo.longitude]\n",
    "        return x_y\n",
    "\n",
    "    except:\n",
    "        return [0,0]"
   ]
  },
  {
   "cell_type": "code",
   "execution_count": 34,
   "id": "0b4a9a69",
   "metadata": {},
   "outputs": [],
   "source": [
    "latitude = []\n",
    "longitude =[]\n",
    "\n",
    "for i in address:\n",
    "    latitude.append(geocoding(i)[0])\n",
    "    longitude.append(geocoding(i)[1])"
   ]
  },
  {
   "cell_type": "code",
   "execution_count": 35,
   "id": "8e8f1dc9",
   "metadata": {},
   "outputs": [],
   "source": [
    "address_df = pd.DataFrame({'동-연번': csv['연번'],'상세위치':csv['상세위치'],'도로명주소':address,'위도':latitude,'경도':longitude})\n",
    "address_df.to_csv('용산구_상습쓰레기무단투기지역_위경도.csv')"
   ]
  },
  {
   "cell_type": "code",
   "execution_count": 37,
   "id": "efa7152e",
   "metadata": {},
   "outputs": [],
   "source": [
    "address_df.to_excel('용산구_상습쓰레기무단투기지역_위경도.xlsx')"
   ]
  },
  {
   "cell_type": "code",
   "execution_count": 10,
   "id": "d08cdd58",
   "metadata": {},
   "outputs": [],
   "source": [
    "import pandas as pd\n",
    "library=pd.read_csv('./용산구_상습쓰레기무단투기지역_위경도.csv')"
   ]
  },
  {
   "cell_type": "code",
   "execution_count": 7,
   "id": "f461fae3",
   "metadata": {},
   "outputs": [
    {
     "data": {
      "text/html": [
       "<div style=\"width:100%;\"><div style=\"position:relative;width:100%;height:0;padding-bottom:60%;\"><span style=\"color:#565656\">Make this Notebook Trusted to load map: File -> Trust Notebook</span><iframe srcdoc=\"&lt;!DOCTYPE html&gt;\n",
       "&lt;html&gt;\n",
       "&lt;head&gt;\n",
       "    \n",
       "    &lt;meta http-equiv=&quot;content-type&quot; content=&quot;text/html; charset=UTF-8&quot; /&gt;\n",
       "    \n",
       "        &lt;script&gt;\n",
       "            L_NO_TOUCH = false;\n",
       "            L_DISABLE_3D = false;\n",
       "        &lt;/script&gt;\n",
       "    \n",
       "    &lt;style&gt;html, body {width: 100%;height: 100%;margin: 0;padding: 0;}&lt;/style&gt;\n",
       "    &lt;style&gt;#map {position:absolute;top:0;bottom:0;right:0;left:0;}&lt;/style&gt;\n",
       "    &lt;script src=&quot;https://cdn.jsdelivr.net/npm/leaflet@1.9.3/dist/leaflet.js&quot;&gt;&lt;/script&gt;\n",
       "    &lt;script src=&quot;https://code.jquery.com/jquery-1.12.4.min.js&quot;&gt;&lt;/script&gt;\n",
       "    &lt;script src=&quot;https://cdn.jsdelivr.net/npm/bootstrap@5.2.2/dist/js/bootstrap.bundle.min.js&quot;&gt;&lt;/script&gt;\n",
       "    &lt;script src=&quot;https://cdnjs.cloudflare.com/ajax/libs/Leaflet.awesome-markers/2.0.2/leaflet.awesome-markers.js&quot;&gt;&lt;/script&gt;\n",
       "    &lt;link rel=&quot;stylesheet&quot; href=&quot;https://cdn.jsdelivr.net/npm/leaflet@1.9.3/dist/leaflet.css&quot;/&gt;\n",
       "    &lt;link rel=&quot;stylesheet&quot; href=&quot;https://cdn.jsdelivr.net/npm/bootstrap@5.2.2/dist/css/bootstrap.min.css&quot;/&gt;\n",
       "    &lt;link rel=&quot;stylesheet&quot; href=&quot;https://netdna.bootstrapcdn.com/bootstrap/3.0.0/css/bootstrap.min.css&quot;/&gt;\n",
       "    &lt;link rel=&quot;stylesheet&quot; href=&quot;https://cdn.jsdelivr.net/npm/@fortawesome/fontawesome-free@6.2.0/css/all.min.css&quot;/&gt;\n",
       "    &lt;link rel=&quot;stylesheet&quot; href=&quot;https://cdnjs.cloudflare.com/ajax/libs/Leaflet.awesome-markers/2.0.2/leaflet.awesome-markers.css&quot;/&gt;\n",
       "    &lt;link rel=&quot;stylesheet&quot; href=&quot;https://cdn.jsdelivr.net/gh/python-visualization/folium/folium/templates/leaflet.awesome.rotate.min.css&quot;/&gt;\n",
       "    \n",
       "            &lt;meta name=&quot;viewport&quot; content=&quot;width=device-width,\n",
       "                initial-scale=1.0, maximum-scale=1.0, user-scalable=no&quot; /&gt;\n",
       "            &lt;style&gt;\n",
       "                #map_436f8fee03e5c0903a45c52095ebb506 {\n",
       "                    position: relative;\n",
       "                    width: 100.0%;\n",
       "                    height: 100.0%;\n",
       "                    left: 0.0%;\n",
       "                    top: 0.0%;\n",
       "                }\n",
       "                .leaflet-container { font-size: 1rem; }\n",
       "            &lt;/style&gt;\n",
       "        \n",
       "    &lt;script src=&quot;https://cdn.jsdelivr.net/gh/python-visualization/folium@main/folium/templates/leaflet_heat.min.js&quot;&gt;&lt;/script&gt;\n",
       "&lt;/head&gt;\n",
       "&lt;body&gt;\n",
       "    \n",
       "    \n",
       "            &lt;div class=&quot;folium-map&quot; id=&quot;map_436f8fee03e5c0903a45c52095ebb506&quot; &gt;&lt;/div&gt;\n",
       "        \n",
       "&lt;/body&gt;\n",
       "&lt;script&gt;\n",
       "    \n",
       "    \n",
       "            var map_436f8fee03e5c0903a45c52095ebb506 = L.map(\n",
       "                &quot;map_436f8fee03e5c0903a45c52095ebb506&quot;,\n",
       "                {\n",
       "                    center: [37.58, 127.0],\n",
       "                    crs: L.CRS.EPSG3857,\n",
       "                    zoom: 11,\n",
       "                    zoomControl: true,\n",
       "                    preferCanvas: false,\n",
       "                }\n",
       "            );\n",
       "\n",
       "            \n",
       "\n",
       "        \n",
       "    \n",
       "            var tile_layer_ed12b4c3cd5a773c55c303b15d74fa24 = L.tileLayer(\n",
       "                &quot;https://{s}.tile.openstreetmap.org/{z}/{x}/{y}.png&quot;,\n",
       "                {&quot;attribution&quot;: &quot;Data by \\u0026copy; \\u003ca target=\\&quot;_blank\\&quot; href=\\&quot;http://openstreetmap.org\\&quot;\\u003eOpenStreetMap\\u003c/a\\u003e, under \\u003ca target=\\&quot;_blank\\&quot; href=\\&quot;http://www.openstreetmap.org/copyright\\&quot;\\u003eODbL\\u003c/a\\u003e.&quot;, &quot;detectRetina&quot;: false, &quot;maxNativeZoom&quot;: 18, &quot;maxZoom&quot;: 18, &quot;minZoom&quot;: 0, &quot;noWrap&quot;: false, &quot;opacity&quot;: 1, &quot;subdomains&quot;: &quot;abc&quot;, &quot;tms&quot;: false}\n",
       "            ).addTo(map_436f8fee03e5c0903a45c52095ebb506);\n",
       "        \n",
       "    \n",
       "            var heat_map_1066a4103e34bc3a8995d13ec1d99e4d = L.heatLayer(\n",
       "                [[0.0, 0.0], [0.0, 0.0], [37.5493349, 126.9796602], [37.5503292, 126.9736779], [0.0, 0.0], [0.0, 0.0], [37.5520538, 126.9785436], [37.5484425, 126.9791295], [37.5476121, 126.9810748], [37.5538669, 126.9773942], [37.5471638, 126.9828822], [0.0, 0.0], [0.0, 0.0], [0.0, 0.0], [37.5541994, 126.9727301], [0.0, 0.0], [37.5541994, 126.9727301], [37.5464717, 126.9776296], [37.5483943, 126.9836511], [37.547912, 126.9740554], [37.5485765, 126.9747528], [37.546124, 126.983658], [37.5457306, 126.9872261], [0.0, 0.0], [0.0, 0.0], [37.5425946, 126.9872037], [37.54595665, 126.9827688304868], [37.5466133, 126.9811628], [0.0, 0.0], [0.0, 0.0], [0.0, 0.0], [0.0, 0.0], [37.5456586, 126.9882191], [0.0, 0.0], [37.5416539, 126.985749], [0.0, 0.0], [37.5450014, 126.9822648], [37.5416451, 126.9847916], [0.0, 0.0], [37.5431961, 126.9860101], [37.543774, 126.9854414], [0.0, 0.0], [37.5418777, 126.9850308], [37.5441967, 126.9858304], [37.543801, 126.9842598], [37.543801, 126.9842598], [37.5416451, 126.9847916], [37.5456586, 126.9882191], [0.0, 0.0], [37.5425946, 126.9872037], [0.0, 0.0], [0.0, 0.0], [0.0, 0.0], [0.0, 0.0], [37.5461285, 126.9732033], [0.0, 0.0], [0.0, 0.0], [0.0, 0.0], [0.0, 0.0], [0.0, 0.0], [0.0, 0.0], [0.0, 0.0], [0.0, 0.0], [0.0, 0.0], [0.0, 0.0], [0.0, 0.0], [0.0, 0.0], [37.5520599, 126.9740189], [0.0, 0.0], [37.5541994, 126.9727301], [0.0, 0.0], [0.0, 0.0], [0.0, 0.0], [0.0, 0.0], [0.0, 0.0], [37.5537064, 126.9671313], [37.5529369, 126.9667801], [37.5503893, 126.9680919], [37.5503893, 126.9680919], [37.5315648, 126.9546494], [37.5524232, 126.9636704], [37.5504993, 126.9650887], [37.5503893, 126.9680919], [37.5497292, 126.9681029], [37.548234, 126.9643135], [37.548234, 126.9643135], [37.548234, 126.9643135], [37.5470604, 126.9678845], [37.5498597, 126.9649591], [37.5490478, 126.9647237], [37.5488445, 126.9654686], [37.5470604, 126.9678845], [37.5470604, 126.9678845], [0.0, 0.0], [37.5423527, 126.9689181], [37.5438115, 126.9692119], [37.5503893, 126.9680919], [37.5526338, 126.9672419], [37.5526338, 126.9672419], [37.5315648, 126.9546494], [37.5504993, 126.9650887], [37.5524232, 126.9636704], [37.5508652, 126.9656151], [37.5497292, 126.9681029], [37.5497292, 126.9681029], [37.5486148, 126.9677586], [37.5468894, 126.9691048], [0.0, 0.0], [37.5342563, 126.9631696], [37.5390826, 126.9656121], [37.5425943, 126.9686039], [37.5402237, 126.9681025], [37.538527, 126.9642124], [37.5390826, 126.9656121], [37.5358175, 126.962537], [37.5382047, 126.962996], [37.5358175, 126.962537], [37.5358175, 126.962537], [37.5368062, 126.9620418], [0.0, 0.0], [37.5349058, 126.9645147], [37.538527, 126.9642124], [37.5367, 126.96818], [37.5349058, 126.9645147], [37.5349058, 126.9645147], [0.0, 0.0], [0.0, 0.0], [37.538939, 126.9612671], [37.5349488, 126.9556765], [37.535986, 126.9599579], [37.535986, 126.9599579], [37.533579, 126.9572136], [37.538939, 126.9612671], [37.538939, 126.9612671], [37.533579, 126.9572136], [37.53427, 126.9578], [37.5360875, 126.9548926], [37.5387485, 126.9587269], [37.5467754, 126.9622408], [0.0, 0.0], [0.0, 0.0], [0.0, 0.0], [37.538939, 126.9612671], [37.5407275, 126.9598659], [37.538939, 126.9612671], [37.5387506, 126.9603329], [37.5365675, 126.959576], [37.5326697, 126.9639945], [37.538939, 126.9612671], [37.5298239, 126.9677662], [37.5304314, 126.9706468], [37.5310512, 126.9712177], [37.5324188, 126.9731354], [37.5324188, 126.9731354], [37.5327854, 126.9735417], [37.5327854, 126.9735417], [37.5327854, 126.9735417], [37.5345064, 126.9750899], [37.5335611, 126.9755674], [37.5347471, 126.9724672], [37.5447751, 126.9719446], [37.5314636, 126.9684041], [37.5298239, 126.9677662], [37.52618665, 126.96464850794096], [37.526631, 126.9646707], [37.5261438, 126.9633921], [37.5253557, 126.9626647], [0.0, 0.0], [37.52389, 126.9641055], [37.5447751, 126.9719446], [37.5243563, 126.9595498], [0.0, 0.0], [37.5447751, 126.9719446], [37.5342091, 126.9730498], [0.0, 0.0], [37.5222642, 126.9734036], [0.0, 0.0], [37.5222642, 126.9734036], [37.5217998, 126.9647626], [0.0, 0.0], [0.0, 0.0], [37.5217998, 126.9647626], [37.5253416, 126.9558138], [37.526192, 126.9551755], [37.526192, 126.9551755], [37.5217998, 126.9647626], [0.0, 0.0], [37.5339532, 126.9914813], [37.5348135, 126.9937364], [37.53842, 126.992], [37.5332083, 126.9915206], [37.5317316, 126.9929511], [37.5355757, 126.9896029], [37.5332083, 126.9915206], [37.5331571, 126.9924147], [37.5317316, 126.9929511], [37.5317316, 126.9929511], [37.5317316, 126.9929511], [0.0, 0.0], [37.5414209, 126.9917366], [37.5412816, 126.9909518], [37.5397755, 126.9915991], [37.5397755, 126.9915991], [37.5386762, 126.9942573], [37.5378533, 126.9888247], [37.5366798, 126.9892977], [37.5355757, 126.9896029], [37.5326105, 127.0051796], [37.533946, 127.00456026501207], [37.5332495, 126.997615], [37.5322647, 126.9992454], [37.5322647, 126.9992454], [37.5323687, 126.9991105], [37.5322647, 126.9992454], [0.0, 0.0], [37.5317353, 127.0028495], [37.5317353, 127.0028495], [37.5317353, 127.0028495], [37.5323395, 127.0017846], [37.5343277, 126.9975669], [37.5343277, 126.9975669], [37.5334945, 126.9993891], [37.5330796, 126.9987231], [37.5330796, 126.9987231], [37.5330796, 126.9987231], [37.5319863, 127.0037673], [37.5319863, 127.0037673], [37.5319863, 127.0037673], [37.5315416, 127.0043142], [37.5315416, 127.0043142], [37.5299323, 127.0054677], [37.5299323, 127.0054677], [37.5299276, 127.0040669], [37.5299276, 127.0040669], [37.5299276, 127.0040669], [37.5307483, 127.0028782], [37.5285442, 127.0052443], [37.5290548, 127.0061902], [37.529322, 127.0058208], [37.5348136, 126.9984794], [37.5344928, 126.9944907], [37.5363988, 127.0011975], [37.5366519, 126.998443], [37.542555, 127.0024758], [37.5330387, 127.0087614], [37.5349505, 127.0088506], [37.5342035, 127.0084504], [37.5311476, 127.0077012], [37.5432644, 127.0029958], [37.520219, 126.9905063], [37.5219853, 126.9942202], [37.5219853, 126.9942202], [37.5219853, 126.9942202], [37.5230395, 126.9955175], [37.5230395, 126.9955175], [37.5230395, 126.9955175], [37.5220402, 126.9968633], [37.5235521, 126.9966199], [37.5218522, 126.9973813], [37.5233843, 126.9969075], [37.5227282, 126.9991508], [37.5226981, 126.9978682], [37.5226981, 126.9978682], [37.5226981, 126.9978682], [37.5226981, 126.9978682], [37.5232649, 126.9946702], [37.5232649, 126.9946702], [37.5226197, 126.9996953], [37.5330546, 126.9944068], [37.5330546, 126.9944068], [37.5295311, 126.9990775], [37.5295311, 126.9990775], [37.5295311, 126.9990775], [37.5309808, 126.9987065], [37.5309808, 126.9987065], [37.5309808, 126.9987065], [37.5309808, 126.9987065], [37.5309808, 126.9987065], [37.5309808, 126.9987065], [37.5309808, 126.9987065], [37.5322647, 126.9992454], [37.5322647, 126.9992454], [37.5322647, 126.9992454], [37.5322647, 126.9992454], [37.5322647, 126.9992454], [37.5300028, 126.9997683], [37.5302097, 127.0010136], [37.5297187, 127.0005082], [37.5297187, 127.0005082], [37.5284681, 126.9974609], [37.5305679, 127.0020526], [37.5305679, 127.0020526], [37.5276792, 127.0027525], [37.5276652, 127.0001686], [37.5273199, 126.9949885], [0.0, 0.0], [0.0, 0.0], [0.0, 0.0], [0.0, 0.0], [0.0, 0.0], [0.0, 0.0], [0.0, 0.0], [0.0, 0.0], [0.0, 0.0], [0.0, 0.0], [0.0, 0.0], [0.0, 0.0], [0.0, 0.0]],\n",
       "                {&quot;blur&quot;: 15, &quot;maxZoom&quot;: 18, &quot;minOpacity&quot;: 0.5, &quot;radius&quot;: 20}\n",
       "            ).addTo(map_436f8fee03e5c0903a45c52095ebb506);\n",
       "        \n",
       "&lt;/script&gt;\n",
       "&lt;/html&gt;\" style=\"position:absolute;width:100%;height:100%;left:0;top:0;border:none !important;\" allowfullscreen webkitallowfullscreen mozallowfullscreen></iframe></div></div>"
      ],
      "text/plain": [
       "<folium.folium.Map at 0x20f546ad360>"
      ]
     },
     "execution_count": 7,
     "metadata": {},
     "output_type": "execute_result"
    }
   ],
   "source": [
    "import folium\n",
    "from folium.plugins import HeatMap\n",
    "\n",
    "m = folium.Map(location=[37.58, 127.0], tiles='openstreetmap', zoom_start=11)\n",
    "\n",
    "HeatMap(\n",
    "    data=library[['위도', '경도']], \n",
    "    radius=20,\n",
    ").add_to(m)\n",
    "\n",
    "m"
   ]
  },
  {
   "cell_type": "code",
   "execution_count": null,
   "id": "c96448fd",
   "metadata": {},
   "outputs": [],
   "source": []
  },
  {
   "cell_type": "code",
   "execution_count": null,
   "id": "71084772",
   "metadata": {},
   "outputs": [],
   "source": []
  }
 ],
 "metadata": {
  "kernelspec": {
   "display_name": "Python 3 (ipykernel)",
   "language": "python",
   "name": "python3"
  },
  "language_info": {
   "codemirror_mode": {
    "name": "ipython",
    "version": 3
   },
   "file_extension": ".py",
   "mimetype": "text/x-python",
   "name": "python",
   "nbconvert_exporter": "python",
   "pygments_lexer": "ipython3",
   "version": "3.10.9"
  }
 },
 "nbformat": 4,
 "nbformat_minor": 5
}
